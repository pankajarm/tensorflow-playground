{
 "cells": [
  {
   "cell_type": "code",
   "execution_count": 64,
   "metadata": {
    "collapsed": false
   },
   "outputs": [],
   "source": [
    "# import usual suspects\n",
    "import tensorflow as tf\n",
    "import matplotlib.pyplot as plt\n",
    "import numpy"
   ]
  },
  {
   "cell_type": "code",
   "execution_count": 65,
   "metadata": {
    "collapsed": true
   },
   "outputs": [],
   "source": [
    "# setup architectural parameters\n",
    "\n",
    "learning_Rate = 0.01\n",
    "training_Epochs = 1000\n",
    "display_Step = 50\n"
   ]
  },
  {
   "cell_type": "code",
   "execution_count": 66,
   "metadata": {
    "collapsed": true
   },
   "outputs": [],
   "source": [
    "# Training Data\n",
    "train_X = numpy.asarray([3.3,4.4,5.5,6.71,6.93,4.168,9.779,6.182,7.59,2.167,\n",
    "                         7.042,10.791,5.313,7.997,5.654,9.27,3.1])\n",
    "train_Y = numpy.asarray([1.7,2.76,2.09,3.19,1.694,1.573,3.366,2.596,2.53,1.221,\n",
    "                         2.827,3.465,1.65,2.904,2.42,2.94,1.3])\n",
    "# get total rows of train_X\n",
    "n_samples = train_X.shape[0]"
   ]
  },
  {
   "cell_type": "code",
   "execution_count": 67,
   "metadata": {
    "collapsed": true
   },
   "outputs": [],
   "source": [
    "#  tf Graph Input\n",
    "X = tf.placeholder('float')\n",
    "Y = tf.placeholder('float')\n"
   ]
  },
  {
   "cell_type": "code",
   "execution_count": 68,
   "metadata": {
    "collapsed": true
   },
   "outputs": [],
   "source": [
    "# Set model weights\n",
    "W = tf.Variable(numpy.random.randn(), name= 'weight')\n",
    "b = tf.Variable(numpy.random.randn(), name = 'bias')"
   ]
  },
  {
   "cell_type": "code",
   "execution_count": 69,
   "metadata": {
    "collapsed": false
   },
   "outputs": [],
   "source": [
    "# construct a Linear model y = XW + b\n",
    "pred = tf.add(tf.multiply(X, W), b)"
   ]
  },
  {
   "cell_type": "code",
   "execution_count": 70,
   "metadata": {
    "collapsed": true
   },
   "outputs": [],
   "source": [
    "# mean squared error\n",
    "cost = tf.reduce_sum(tf.pow(pred - Y,2)) / (2 * n_samples)"
   ]
  },
  {
   "cell_type": "code",
   "execution_count": 71,
   "metadata": {
    "collapsed": true
   },
   "outputs": [],
   "source": [
    "# Optimizer, we wil use Gradient Descent\n",
    "optimizer = tf.train.GradientDescentOptimizer(learning_rate=learning_Rate).minimize(cost)"
   ]
  },
  {
   "cell_type": "code",
   "execution_count": 72,
   "metadata": {
    "collapsed": true
   },
   "outputs": [],
   "source": [
    "# Initialize the tf.Variables\n",
    "init = tf.global_variables_initializer()"
   ]
  },
  {
   "cell_type": "code",
   "execution_count": 73,
   "metadata": {
    "collapsed": false
   },
   "outputs": [
    {
     "name": "stdout",
     "output_type": "stream",
     "text": [
      "\n",
      " Epoch:  50 Cost=  0.0847614 W=  0.200597 b=  1.15395\n",
      "\n",
      " Epoch:  100 Cost=  0.0838688 W=  0.203511 b=  1.13298\n",
      "\n",
      " Epoch:  150 Cost=  0.0830788 W=  0.206251 b=  1.11327\n",
      "\n",
      " Epoch:  200 Cost=  0.0823799 W=  0.208829 b=  1.09473\n",
      "\n",
      " Epoch:  250 Cost=  0.0817614 W=  0.211253 b=  1.07729\n",
      "\n",
      " Epoch:  300 Cost=  0.0812141 W=  0.213533 b=  1.06088\n",
      "\n",
      " Epoch:  350 Cost=  0.0807297 W=  0.215678 b=  1.04545\n",
      "\n",
      " Epoch:  400 Cost=  0.080301 W=  0.217695 b=  1.03094\n",
      "\n",
      " Epoch:  450 Cost=  0.0799216 W=  0.219592 b=  1.0173\n",
      "\n",
      " Epoch:  500 Cost=  0.0795858 W=  0.221376 b=  1.00446\n",
      "\n",
      " Epoch:  550 Cost=  0.0792887 W=  0.223055 b=  0.992385\n",
      "\n",
      " Epoch:  600 Cost=  0.0790257 W=  0.224633 b=  0.981029\n",
      "\n",
      " Epoch:  650 Cost=  0.0787929 W=  0.226118 b=  0.970349\n",
      "\n",
      " Epoch:  700 Cost=  0.0785868 W=  0.227514 b=  0.960303\n",
      "\n",
      " Epoch:  750 Cost=  0.0784045 W=  0.228827 b=  0.950858\n",
      "\n",
      " Epoch:  800 Cost=  0.0782431 W=  0.230062 b=  0.941974\n",
      "\n",
      " Epoch:  850 Cost=  0.0781002 W=  0.231224 b=  0.933619\n",
      "\n",
      " Epoch:  900 Cost=  0.0779737 W=  0.232316 b=  0.92576\n",
      "\n",
      " Epoch:  950 Cost=  0.0778617 W=  0.233343 b=  0.918369\n",
      "\n",
      " Epoch:  1000 Cost=  0.0777626 W=  0.23431 b=  0.911418\n",
      "\n",
      " Optimzation Finished!\n",
      "\n",
      " Training Cost=  0.0777626 W=  0.23431 b=  0.911418\n"
     ]
    },
    {
     "data": {
      "image/png": "[encoded data removed]",
      "text/plain": [
       "<matplotlib.figure.Figure at 0x114973198>"
      ]
     },
     "metadata": {},
     "output_type": "display_data"
    }
   ],
   "source": [
    "# Launch the Graph\n",
    "\n",
    "with tf.Session() as sess:\n",
    "    sess.run(init)\n",
    "    \n",
    "    # Fit all training data\n",
    "    \n",
    "    # Run Optimization\n",
    "    for epoch in range(training_Epochs):\n",
    "        for (x,y) in zip(train_X, train_Y):\n",
    "            sess.run(optimizer, feed_dict = {\n",
    "                X: x,\n",
    "                Y: y\n",
    "            })\n",
    "        #Display logs per epoch step\n",
    "        if (epoch+1) % display_Step == 0:\n",
    "            c = sess.run(cost, feed_dict={\n",
    "                X: train_X,\n",
    "                Y: train_Y\n",
    "            })\n",
    "            print ('\\n Epoch: ', (epoch+1), 'Cost= ', c, 'W= ', sess.run(W), 'b= ', sess.run(b))\n",
    "            \n",
    "    print ('\\n Optimzation Finished!')\n",
    "    \n",
    "    # Get Training Cost\n",
    "    training_Cost = sess.run(cost, feed_dict={\n",
    "        X: train_X,\n",
    "        Y: train_Y\n",
    "    })\n",
    "    print ('\\n Training Cost= ', training_Cost, 'W= ', sess.run(W), 'b= ', sess.run(b))\n",
    "    \n",
    "        #Graphic display\n",
    "    plt.plot(train_X, train_Y, 'ro', label='Original data')\n",
    "    plt.plot(train_X, sess.run(W) * train_X + sess.run(b), label='Fitted line')\n",
    "    plt.legend()\n",
    "    plt.show()"
   ]
  },
  {
   "cell_type": "code",
   "execution_count": 76,
   "metadata": {
    "collapsed": false
   },
   "outputs": [
    {
     "name": "stdout",
     "output_type": "stream",
     "text": [
      "Epoch=  50 Cost=  0.0847614 W=  0.200597 b=  1.15395\n",
      "Epoch=  100 Cost=  0.0838688 W=  0.203511 b=  1.13298\n",
      "Epoch=  150 Cost=  0.0830788 W=  0.206251 b=  1.11327\n",
      "Epoch=  200 Cost=  0.0823799 W=  0.208829 b=  1.09473\n",
      "Epoch=  250 Cost=  0.0817614 W=  0.211253 b=  1.07729\n",
      "Epoch=  300 Cost=  0.0812141 W=  0.213533 b=  1.06088\n",
      "Epoch=  350 Cost=  0.0807297 W=  0.215678 b=  1.04545\n",
      "Epoch=  400 Cost=  0.080301 W=  0.217695 b=  1.03094\n",
      "Epoch=  450 Cost=  0.0799216 W=  0.219592 b=  1.0173\n",
      "Epoch=  500 Cost=  0.0795858 W=  0.221376 b=  1.00446\n",
      "Epoch=  550 Cost=  0.0792887 W=  0.223055 b=  0.992385\n",
      "Epoch=  600 Cost=  0.0790257 W=  0.224633 b=  0.981029\n",
      "Epoch=  650 Cost=  0.0787929 W=  0.226118 b=  0.970349\n",
      "Epoch=  700 Cost=  0.0785868 W=  0.227514 b=  0.960303\n",
      "Epoch=  750 Cost=  0.0784045 W=  0.228827 b=  0.950858\n",
      "Epoch=  800 Cost=  0.0782431 W=  0.230062 b=  0.941974\n",
      "Epoch=  850 Cost=  0.0781002 W=  0.231224 b=  0.933619\n",
      "Epoch=  900 Cost=  0.0779737 W=  0.232316 b=  0.92576\n",
      "Epoch=  950 Cost=  0.0778617 W=  0.233343 b=  0.918369\n",
      "Epoch=  1000 Cost=  0.0777626 W=  0.23431 b=  0.911418\n",
      "\n",
      " Optimization Finished!\n",
      "\n",
      " Training Cost=  0.0777626 W=  0.23431 b=  0.911418\n"
     ]
    }
   ],
   "source": [
    "# launch the graph\n",
    "\n",
    "with tf.Session() as sess:\n",
    "    #initizlie all teh variables\n",
    "    sess.run(init)\n",
    "    \n",
    "    #fit all training data, so run through all training epochs \n",
    "    for epoch in range(training_Epoch):\n",
    "        \n",
    "        # we need to run optimizer in session through train X and train Y\n",
    "        for (x,y) in zip(train_X, train_Y):\n",
    "            sess.run(optimizer, feed_dict={X:x, Y:y})\n",
    "        \n",
    "        # now let's print cost, with W and b for each display step under already running epoch step\n",
    "        # we will go through epoch 1 to last epoch and calcualte cost and print only when modulo is 0\n",
    "        # modulo will be 0 for each 0 ending display step, 50, 100, 150,....1000\n",
    "        if (epoch+1) % display_Step == 0:\n",
    "            c = sess.run(cost, feed_dict={X:train_X, Y:train_Y})\n",
    "            print ('Epoch= ', epoch+1, 'Cost= ', c, 'W= ', sess.run(W), 'b= ', sess.run(b))\n",
    "            \n",
    "    # print optimization finished when epochs ends\n",
    "    print ('\\n Optimization Finished!')\n",
    "    \n",
    "    # Calculate and print final training cost\n",
    "    training_Cost = sess.run(cost, feed_dict={X: train_X, Y:train_Y})\n",
    "    print ('\\n Training Cost= ', training_Cost, 'W= ', sess.run(W), 'b= ', sess.run(b))\n",
    "    "
   ]
  },
  {
   "cell_type": "code",
   "execution_count": null,
   "metadata": {
    "collapsed": true
   },
   "outputs": [],
   "source": []
  },
  {
   "cell_type": "code",
   "execution_count": null,
   "metadata": {
    "collapsed": true
   },
   "outputs": [],
   "source": []
  },
  {
   "cell_type": "code",
   "execution_count": null,
   "metadata": {
    "collapsed": true
   },
   "outputs": [],
   "source": []
  },
  {
   "cell_type": "code",
   "execution_count": null,
   "metadata": {
    "collapsed": true
   },
   "outputs": [],
   "source": []
  },
  {
   "cell_type": "code",
   "execution_count": null,
   "metadata": {
    "collapsed": true
   },
   "outputs": [],
   "source": []
  },
  {
   "cell_type": "code",
   "execution_count": null,
   "metadata": {
    "collapsed": true
   },
   "outputs": [],
   "source": []
  },
  {
   "cell_type": "code",
   "execution_count": null,
   "metadata": {
    "collapsed": true
   },
   "outputs": [],
   "source": []
  },
  {
   "cell_type": "code",
   "execution_count": null,
   "metadata": {
    "collapsed": true
   },
   "outputs": [],
   "source": []
  }
 ],
 "metadata": {
  "kernelspec": {
   "display_name": "Python 3",
   "language": "python",
   "name": "python3"
  },
  "language_info": {
   "codemirror_mode": {
    "name": "ipython",
    "version": 3
   },
   "file_extension": ".py",
   "mimetype": "text/x-python",
   "name": "python",
   "nbconvert_exporter": "python",
   "pygments_lexer": "ipython3",
   "version": "3.5.3"
  }
 },
 "nbformat": 4,
 "nbformat_minor": 2
}
