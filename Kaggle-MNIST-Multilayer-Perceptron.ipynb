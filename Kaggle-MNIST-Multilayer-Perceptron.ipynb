{
 "cells": [
  {
   "cell_type": "code",
   "execution_count": 1,
   "metadata": {
    "collapsed": true
   },
   "outputs": [],
   "source": [
    "# import usual suspects\n",
    "import tensorflow as tf\n",
    "import numpy as np\n",
    "import pandas as pd\n",
    "import scipy.ndimage"
   ]
  },
  {
   "cell_type": "code",
   "execution_count": 2,
   "metadata": {},
   "outputs": [],
   "source": [
    "model_path = \"model/Kaggle-MNIST-Multilayer-Perceptron-1.ckpt\""
   ]
  },
  {
   "cell_type": "code",
   "execution_count": 3,
   "metadata": {},
   "outputs": [
    {
     "name": "stdout",
     "output_type": "stream",
     "text": [
      "length of Original Training file 42001\n",
      "length of Validation file 8399\n",
      "length of Training file 33601\n"
     ]
    }
   ],
   "source": [
    "# load the mnist training data CSV file into a list\n",
    "# training_data_file = open(\"mnist_train_100.csv\", 'r')\n",
    "training_data_file = open(\"train.csv\", 'r')\n",
    "training_data_list = training_data_file.readlines()\n",
    "print (\"length of Original Training file\", len(training_data_list))\n",
    "\n",
    "# Take out first row as it contain columns name\n",
    "\n",
    "# create a validtion data list, first 20 % rows\n",
    "# validation_data_list = training_data_list[1:8401]\n",
    "\n",
    "validation_data_list = training_data_list[1:int(len(training_data_list) * .20)]\n",
    "print (\"length of Validation file\", len(validation_data_list))\n",
    "\n",
    "# create a final training data list remaining 80 rows\n",
    "# training_data_list = training_data_list[8401:]\n",
    "training_data_list = training_data_list[int(len(training_data_list) * .20):]\n",
    "\n",
    "print (\"length of Training file\", len(training_data_list))\n",
    "\n",
    "training_data_file.close()"
   ]
  },
  {
   "cell_type": "code",
   "execution_count": 4,
   "metadata": {},
   "outputs": [
    {
     "name": "stdout",
     "output_type": "stream",
     "text": [
      "33601\n",
      "33601\n"
     ]
    }
   ],
   "source": [
    "trainX = []\n",
    "trainY = []\n",
    "\n",
    "# now go to each record in batch of training data list\n",
    "for record in training_data_list:\n",
    "    # split the record by the ',' commas\n",
    "    all_rows = record.split(',')\n",
    "\n",
    "    # input should only have pixel so take out label column out of it\n",
    "    # which is first column in data so [1:]\n",
    "#     image = np.asfarray(all_rows[1:])\n",
    "    image = (np.asfarray(all_rows[1:]) / 256.0 * 0.99) + 0.01\n",
    "    trainX.append(image)\n",
    "                \n",
    "    # label is first column\n",
    "    label = np.zeros([10]) + 0.01\n",
    "    label[int(all_rows[0])] = 0.99\n",
    "    trainY.append(label)\n",
    "\n",
    "print(len(trainX))\n",
    "print(len(trainY))\n"
   ]
  },
  {
   "cell_type": "code",
   "execution_count": null,
   "metadata": {},
   "outputs": [],
   "source": []
  },
  {
   "cell_type": "code",
   "execution_count": 5,
   "metadata": {},
   "outputs": [
    {
     "name": "stdout",
     "output_type": "stream",
     "text": [
      "8399\n",
      "8399\n"
     ]
    }
   ],
   "source": [
    "validationX = []\n",
    "validationY = []\n",
    "\n",
    "# now go to each record in batch of training data list\n",
    "for record in validation_data_list:\n",
    "    # split the record by the ',' commas\n",
    "    all_rows = record.split(',')\n",
    "\n",
    "    # input should only have pixel so take out label column out of it\n",
    "    # which is first column in data so [1:]\n",
    "#     image = (np.asfarray(all_rows[1:]) / 256.0 * 0.99) + 0.01\n",
    "    image = (np.asfarray(all_rows[1:]) / 256.0 * 0.99) + 0.01\n",
    "    validationX.append(image)\n",
    "                \n",
    "    # label is first column\n",
    "    label = np.zeros([10]) + 0.01\n",
    "    label[int(all_rows[0])] = 0.99\n",
    "    validationY.append(label)\n",
    "\n",
    "print(len(validationX))\n",
    "print(len(validationY))"
   ]
  },
  {
   "cell_type": "code",
   "execution_count": null,
   "metadata": {},
   "outputs": [],
   "source": []
  },
  {
   "cell_type": "code",
   "execution_count": 6,
   "metadata": {},
   "outputs": [
    {
     "name": "stdout",
     "output_type": "stream",
     "text": [
      "33601\n",
      "33601\n"
     ]
    }
   ],
   "source": [
    "trainX_plusx_img = []\n",
    "trainY_plusx_img = []\n",
    "\n",
    "# now go to each record in batch of training data list\n",
    "for record in training_data_list:\n",
    "    # split the record by the ',' commas\n",
    "    all_rows = record.split(',')\n",
    "\n",
    "    # input should only have pixel so take out label column out of it\n",
    "    # which is first column in data so [1:]\n",
    "#     image = np.asfarray(all_rows[1:])\n",
    "    image = (np.asfarray(all_rows[1:]) / 256.0 * 0.99) + 0.01\n",
    "    \n",
    "    # create new training data by rotating anticlockwise by 10 degrees\n",
    "    image = scipy.ndimage.interpolation.rotate(image.reshape(28,28), angle= 18, cval=0.01, order=1, reshape=False)\n",
    "    image = image.reshape(784)\n",
    "    trainX_plusx_img.append(image)\n",
    "                \n",
    "    # label is first column\n",
    "    label = np.zeros([10]) + 0.01\n",
    "    label[int(all_rows[0])] = 0.99\n",
    "    trainY_plusx_img.append(label)\n",
    "\n",
    "print(len(trainX_plusx_img))\n",
    "print(len(trainY_plusx_img))"
   ]
  },
  {
   "cell_type": "code",
   "execution_count": 7,
   "metadata": {},
   "outputs": [
    {
     "name": "stdout",
     "output_type": "stream",
     "text": [
      "33601\n",
      "33601\n"
     ]
    }
   ],
   "source": [
    "trainX_minusx_img = []\n",
    "trainY_minusx_img = []\n",
    "\n",
    "# now go to each record in batch of training data list\n",
    "for record in training_data_list:\n",
    "    # split the record by the ',' commas\n",
    "    all_rows = record.split(',')\n",
    "\n",
    "    # input should only have pixel so take out label column out of it\n",
    "    # which is first column in data so [1:]\n",
    "#     image = np.asfarray(all_rows[1:])\n",
    "    image = (np.asfarray(all_rows[1:]) / 256.0 * 0.99) + 0.01\n",
    "    # create new training data by rotating clockwise by 10 degrees\n",
    "    image = scipy.ndimage.interpolation.rotate(image.reshape(28,28), angle= -18, cval=0.01, order=1, reshape=False)\n",
    "    image = image.reshape(784)\n",
    "    trainX_minusx_img.append(image)\n",
    "                \n",
    "    # label is first column\n",
    "    label = np.zeros([10]) + 0.01\n",
    "    label[int(all_rows[0])] = 0.99\n",
    "    trainY_minusx_img.append(label)\n",
    "\n",
    "print(len(trainX_minusx_img))\n",
    "print(len(trainY_minusx_img))"
   ]
  },
  {
   "cell_type": "code",
   "execution_count": 8,
   "metadata": {},
   "outputs": [
    {
     "name": "stdout",
     "output_type": "stream",
     "text": [
      "100803\n",
      "100803\n"
     ]
    }
   ],
   "source": [
    "#  Add three above dataset into one\n",
    "\n",
    "final_trainX = trainX + trainX_plusx_img + trainY_minusx_img\n",
    "final_trainY = trainY + trainY_plusx_img + trainY_minusx_img\n",
    "\n",
    "print (len(final_trainX))\n",
    "print (len(final_trainY))"
   ]
  },
  {
   "cell_type": "code",
   "execution_count": 9,
   "metadata": {
    "collapsed": true
   },
   "outputs": [],
   "source": [
    "def next_batch(data, batch_size, batch_number):\n",
    "    start = 0\n",
    "    stop = 0\n",
    "    if batch_number == 0:\n",
    "        return data[start:batch_size]\n",
    "    else:\n",
    "        for b in range(batch_number):\n",
    "            start = (b+1)*batch_size\n",
    "            stop = (b+2)*batch_size\n",
    "        \n",
    "        return data[int(start):int(stop)]"
   ]
  },
  {
   "cell_type": "code",
   "execution_count": 10,
   "metadata": {
    "collapsed": true
   },
   "outputs": [],
   "source": [
    "# setup hyper parameters (learning rate, training epochs, batch size, display step)\n",
    "learning_rate = 0.001\n",
    "training_epochs = 3\n",
    "batch_size = 256\n",
    "display_step = 1"
   ]
  },
  {
   "cell_type": "code",
   "execution_count": 11,
   "metadata": {
    "collapsed": true
   },
   "outputs": [],
   "source": [
    "# setup network parameters (size of different hidden layers, size of input features, size of output classes)\n",
    "n_hidden_1 = 256\n",
    "n_hidden_2 = 256\n",
    "n_input = 784\n",
    "n_classes = 10"
   ]
  },
  {
   "cell_type": "code",
   "execution_count": 12,
   "metadata": {},
   "outputs": [],
   "source": [
    "# setup input placeholders for X with shape of (None initial, n_input ) and Y with shape (None initial , n_classes )\n",
    "X = tf.placeholder(tf.float32, shape=[None, n_input])\n",
    "Y = tf.placeholder(tf.float32, shape=[None, n_classes])\n"
   ]
  },
  {
   "cell_type": "code",
   "execution_count": 13,
   "metadata": {},
   "outputs": [],
   "source": [
    "# setup weight and bias variables\n",
    "W = {\n",
    "    'h1': tf.Variable(tf.random_normal([n_input, n_hidden_1]), name='h1'),\n",
    "    'h2': tf.Variable(tf.random_normal([n_hidden_1, n_hidden_2]), name='h2'),\n",
    "    'out': tf.Variable(tf.random_normal([n_hidden_2, n_classes]), name='w_out')\n",
    "}\n",
    "\n",
    "b = {\n",
    "    'b1': tf.Variable(tf.random_normal([n_hidden_1]), name='b1'),\n",
    "    'b2': tf.Variable(tf.random_normal([n_hidden_2]), name='b2'),\n",
    "    'out': tf.Variable(tf.random_normal([n_classes]), name='b_out')\n",
    "}"
   ]
  },
  {
   "cell_type": "code",
   "execution_count": 14,
   "metadata": {
    "collapsed": true
   },
   "outputs": [],
   "source": [
    "# create a function name multilayer_perceptron(x,weights, biases) and return out_layer\n",
    "\n",
    "def multilayer_perceptron(x, weights, bias):\n",
    "    # 1 hidden layer with Linear and then RELU Activation\n",
    "    layer1 = tf.add(tf.matmul(x, weights['h1']), bias['b1'])\n",
    "    layer1 = tf.nn.relu(layer1)\n",
    "    \n",
    "    # 2 hidden layer with Linear and then RELU Activation\n",
    "    layer2 = tf.add(tf.matmul(layer1, weights['h2']), bias['b2'])\n",
    "    layer2 = tf.nn.relu(layer2)\n",
    "    \n",
    "    # Outut layer with Linear Activation\n",
    "    out_layer = tf.add(tf.matmul(layer2, weights['out']), bias['out'])\n",
    "    \n",
    "    return out_layer\n",
    "\n"
   ]
  },
  {
   "cell_type": "code",
   "execution_count": 15,
   "metadata": {},
   "outputs": [],
   "source": [
    "# setup pred model\n",
    "pred = multilayer_perceptron(X, W, b)\n",
    "\n",
    "# setup cost which is average of cross entropy function aka -ylog(pred)\n",
    "cost = tf.reduce_mean(tf.nn.softmax_cross_entropy_with_logits(logits=pred, labels=Y))\n",
    "\n",
    "# setup optimizer\n",
    "optimizer = tf.train.AdamOptimizer(learning_rate=learning_rate).minimize(cost)"
   ]
  },
  {
   "cell_type": "code",
   "execution_count": 16,
   "metadata": {
    "collapsed": true
   },
   "outputs": [],
   "source": [
    "# initialzie all variables\n",
    "init = tf.global_variables_initializer()"
   ]
  },
  {
   "cell_type": "code",
   "execution_count": 17,
   "metadata": {
    "collapsed": true
   },
   "outputs": [],
   "source": [
    "# 'Saver' op to save and restore all the variables\n",
    "saver = tf.train.Saver()"
   ]
  },
  {
   "cell_type": "code",
   "execution_count": 18,
   "metadata": {},
   "outputs": [
    {
     "name": "stdout",
     "output_type": "stream",
     "text": [
      "Epoch= 1 Avg Cost= 468.425053254 Accuracy= 0.718776\n",
      "Epoch= 2 Avg Cost= 204.053129007 Accuracy= 0.781998\n",
      "Epoch= 3 Avg Cost= 192.438835785 Accuracy= 0.803905\n",
      "Optimization Finished for all Epochs!\n",
      "Current Pred Model saved in file: model/Kaggle-MNIST-Multilayer-Perceptron-1.ckpt\n"
     ]
    }
   ],
   "source": [
    "# run the graph within session\n",
    "\n",
    "with tf.Session() as sess:\n",
    "    sess.run(init)\n",
    "    \n",
    "    # loop through all the range of epochs\n",
    "    for epoch in range(training_epochs):\n",
    "        avg_cost = 0\n",
    "        \n",
    "        #get total batches and loop through range of them\n",
    "        total_batches = int(len(training_data_list) / batch_size)\n",
    "        for batch in range(total_batches):\n",
    "            \n",
    "            # Train & run optimzer, cost in same session and feed values to Variables\n",
    "            o, c = sess.run([optimizer, cost], feed_dict={X: next_batch(trainX, batch_size, batch), Y: next_batch(trainY, batch_size, batch)})\n",
    "            \n",
    "            #compute average cost\n",
    "            avg_cost += c / total_batches\n",
    "#             if (epoch % display_step) == 0:\n",
    "#                 print ('batch=', batch+1, 'Cost=', c, 'Average Cost=', avg_cost, ' for Total batches', total_batches)\n",
    "        \n",
    "        # Test Our Trained Model for every epoch\n",
    "        correct_predection = tf.equal(tf.argmax(pred, axis=1), tf.argmax(Y, axis=1))\n",
    "        \n",
    "        # Calculate Accuracy aftering testing\n",
    "        accuracy = tf.reduce_mean(tf.cast(correct_predection, tf.float32))\n",
    "            \n",
    "        # append correct or incorrect to list\n",
    "        accuracy_eval = accuracy.eval({X: validationX, Y: validationY})\n",
    "        \n",
    "        # print display step with epoch, and cost\n",
    "        if (epoch % display_step) == 0:\n",
    "            print ('Epoch=', epoch+1, 'Avg Cost=', avg_cost, 'Accuracy=', accuracy_eval)\n",
    "    \n",
    "    # print optimization finished for all epochs\n",
    "    print (\"Optimization Finished for all Epochs!\")\n",
    "    \n",
    "    # Save model weights to local disk\n",
    "    save_path = saver.save(sess, model_path)\n",
    "    print (\"Current Pred Model saved in file: %s\" % save_path)"
   ]
  },
  {
   "cell_type": "code",
   "execution_count": null,
   "metadata": {},
   "outputs": [],
   "source": []
  },
  {
   "cell_type": "code",
   "execution_count": 19,
   "metadata": {
    "collapsed": true
   },
   "outputs": [],
   "source": [
    "# Now, to test our Model on Kaggle Test data, "
   ]
  },
  {
   "cell_type": "code",
   "execution_count": 20,
   "metadata": {},
   "outputs": [
    {
     "name": "stdout",
     "output_type": "stream",
     "text": [
      "len of kaggle test data without column name 28000\n"
     ]
    }
   ],
   "source": [
    "# let's load the mnist test data CSV file into a list\n",
    "test_data_file = open(\"test.csv\", 'r')\n",
    "test_data_list = test_data_file.readlines()\n",
    "test_data_list = test_data_list[1:]\n",
    "test_data_file.close()\n",
    "\n",
    "print (\"len of kaggle test data without column name\", len(test_data_list) )"
   ]
  },
  {
   "cell_type": "code",
   "execution_count": 21,
   "metadata": {},
   "outputs": [
    {
     "name": "stdout",
     "output_type": "stream",
     "text": [
      "28000\n"
     ]
    }
   ],
   "source": [
    "testX = []\n",
    "# for saving test file output\n",
    "test_file_output = []\n",
    "ImageIdIndex = 0\n",
    "\n",
    "# now go to each record in batch of training data list\n",
    "for record in test_data_list:\n",
    "    \n",
    "    # append empty list for every record\n",
    "    test_file_output.append([])\n",
    "\n",
    "    # add ImageId to empyt list\n",
    "    test_file_output[ImageIdIndex].append(ImageIdIndex+1)\n",
    "\n",
    "    # split the record by the ',' commas\n",
    "    all_rows = record.split(',')\n",
    "\n",
    "    # input should only have pixel so take out label column out of it\n",
    "    # which is first column in data so [1:]\n",
    "#     image = np.asfarray(all_rows[1:])\n",
    "    image = (np.asfarray(all_rows[:]) / 256.0 * 0.99) + 0.01\n",
    "    testX.append(image)\n",
    "\n",
    "print(len(testX))\n"
   ]
  },
  {
   "cell_type": "code",
   "execution_count": 22,
   "metadata": {},
   "outputs": [
    {
     "name": "stdout",
     "output_type": "stream",
     "text": [
      "Model restored from file: model/Kaggle-MNIST-Multilayer-Perceptron-1.ckpt\n",
      "Submission File is Created, use latest output18.csv file to upload to kaggle, to see results\n"
     ]
    }
   ],
   "source": [
    "\n",
    "with tf.Session() as sess:\n",
    "    sess.run(init)\n",
    "    \n",
    "    # Restore model weights from previously saved model\n",
    "    load_path = saver.restore(sess, model_path)\n",
    "    print (\"Model restored from file:\", save_path)\n",
    "        \n",
    "    # Now, query kaggle test data with our trained Neural Network\n",
    "    predictions = sess.run(pred, feed_dict={X: testX})\n",
    "\n",
    "    # the index of the highest value corresponds to the label\n",
    "    predictions = [np.argmax(p) for p in predictions]\n",
    "    \n",
    "    result = pd.DataFrame({'ImageId': range(1,len(predictions)+1), 'Label': predictions})\n",
    "    result.to_csv('output18.csv', index=False, encoding='utf-8')\n",
    "        \n",
    "print (\"Submission File is Created, use latest output18.csv file to upload to kaggle, to see results\")"
   ]
  },
  {
   "cell_type": "code",
   "execution_count": null,
   "metadata": {
    "collapsed": true
   },
   "outputs": [],
   "source": []
  }
 ],
 "metadata": {
  "kernelspec": {
   "display_name": "Python 3",
   "language": "python",
   "name": "python3"
  },
  "language_info": {
   "codemirror_mode": {
    "name": "ipython",
    "version": 3
   },
   "file_extension": ".py",
   "mimetype": "text/x-python",
   "name": "python",
   "nbconvert_exporter": "python",
   "pygments_lexer": "ipython3",
   "version": "3.6.1"
  }
 },
 "nbformat": 4,
 "nbformat_minor": 2
}
