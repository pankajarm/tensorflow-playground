{
 "cells": [
  {
   "cell_type": "code",
   "execution_count": 1,
   "metadata": {
    "collapsed": false
   },
   "outputs": [],
   "source": [
    "# import usual suspects\n",
    "import tensorflow as tf\n",
    "import matplotlib.pyplot as plt\n",
    "import numpy"
   ]
  },
  {
   "cell_type": "code",
   "execution_count": 2,
   "metadata": {
    "collapsed": true
   },
   "outputs": [],
   "source": [
    "# setup hyper parameters\n",
    "\n",
    "learning_Rate = 0.01\n",
    "training_Epochs = 1000\n",
    "display_Step = 50\n"
   ]
  },
  {
   "cell_type": "code",
   "execution_count": 3,
   "metadata": {
    "collapsed": true
   },
   "outputs": [],
   "source": [
    "# Training Data\n",
    "train_X = numpy.asarray([3.3,4.4,5.5,6.71,6.93,4.168,9.779,6.182,7.59,2.167,\n",
    "                         7.042,10.791,5.313,7.997,5.654,9.27,3.1])\n",
    "train_Y = numpy.asarray([1.7,2.76,2.09,3.19,1.694,1.573,3.366,2.596,2.53,1.221,\n",
    "                         2.827,3.465,1.65,2.904,2.42,2.94,1.3])\n",
    "# get total rows of train_X\n",
    "n_samples = train_X.shape[0]"
   ]
  },
  {
   "cell_type": "code",
   "execution_count": 4,
   "metadata": {
    "collapsed": true
   },
   "outputs": [],
   "source": [
    "#  tf Graph Input\n",
    "X = tf.placeholder('float')\n",
    "Y = tf.placeholder('float')\n"
   ]
  },
  {
   "cell_type": "code",
   "execution_count": 5,
   "metadata": {
    "collapsed": true
   },
   "outputs": [],
   "source": [
    "# Set model weights\n",
    "W = tf.Variable(numpy.random.randn(), name= 'weight')\n",
    "b = tf.Variable(numpy.random.randn(), name = 'bias')"
   ]
  },
  {
   "cell_type": "code",
   "execution_count": 6,
   "metadata": {
    "collapsed": false
   },
   "outputs": [],
   "source": [
    "# construct a Linear model y = XW + b\n",
    "pred = tf.add(tf.multiply(X, W), b)"
   ]
  },
  {
   "cell_type": "code",
   "execution_count": 7,
   "metadata": {
    "collapsed": true
   },
   "outputs": [],
   "source": [
    "# mean squared error\n",
    "cost = tf.reduce_sum(tf.pow(pred - Y,2)) / (2 * n_samples)"
   ]
  },
  {
   "cell_type": "code",
   "execution_count": 8,
   "metadata": {
    "collapsed": true
   },
   "outputs": [],
   "source": [
    "# Optimizer, we wil use Gradient Descent\n",
    "optimizer = tf.train.GradientDescentOptimizer(learning_rate=learning_Rate).minimize(cost)"
   ]
  },
  {
   "cell_type": "code",
   "execution_count": 10,
   "metadata": {
    "collapsed": true
   },
   "outputs": [],
   "source": [
    "# Initialize the tf.Variables\n",
    "init = tf.global_variables_initializer()"
   ]
  },
  {
   "cell_type": "code",
   "execution_count": 13,
   "metadata": {
    "collapsed": false
   },
   "outputs": [
    {
     "name": "stdout",
     "output_type": "stream",
     "text": [
      "Epoch= 50 Cost= 0.107132 W= 0.152871 b= 1.49728\n",
      "Epoch= 100 Cost= 0.103661 W= 0.158623 b= 1.4559\n",
      "Epoch= 150 Cost= 0.100591 W= 0.164034 b= 1.41698\n",
      "Epoch= 200 Cost= 0.0978744 W= 0.169122 b= 1.38037\n",
      "Epoch= 250 Cost= 0.0954709 W= 0.173908 b= 1.34594\n",
      "Epoch= 300 Cost= 0.0933444 W= 0.17841 b= 1.31356\n",
      "Epoch= 350 Cost= 0.0914628 W= 0.182643 b= 1.2831\n",
      "Epoch= 400 Cost= 0.0897981 W= 0.186626 b= 1.25445\n",
      "Epoch= 450 Cost= 0.0883251 W= 0.190371 b= 1.22751\n",
      "Epoch= 500 Cost= 0.087022 W= 0.193893 b= 1.20217\n",
      "Epoch= 550 Cost= 0.085869 W= 0.197205 b= 1.17834\n",
      "Epoch= 600 Cost= 0.0848488 W= 0.200321 b= 1.15593\n",
      "Epoch= 650 Cost= 0.083946 W= 0.203251 b= 1.13485\n",
      "Epoch= 700 Cost= 0.0831472 W= 0.206007 b= 1.11502\n",
      "Epoch= 750 Cost= 0.0824403 W= 0.2086 b= 1.09637\n",
      "Epoch= 800 Cost= 0.0818148 W= 0.211038 b= 1.07883\n",
      "Epoch= 850 Cost= 0.0812613 W= 0.213331 b= 1.06234\n",
      "Epoch= 900 Cost= 0.0807714 W= 0.215488 b= 1.04682\n",
      "Epoch= 950 Cost= 0.0803379 W= 0.217516 b= 1.03223\n",
      "Epoch= 1000 Cost= 0.0799543 W= 0.219424 b= 1.0185\n",
      "\n",
      " Optimization Finished!\n",
      "\n",
      " Training Cost= 0.0799543 W= 0.219424 b= 1.0185\n"
     ]
    },
    {
     "data": {
      "image/png": "[encoded data removed]",
      "text/plain": [
       "<matplotlib.figure.Figure at 0x11e0cb0b8>"
      ]
     },
     "metadata": {},
     "output_type": "display_data"
    }
   ],
   "source": [
    "# launch the graph\n",
    "\n",
    "with tf.Session() as sess:\n",
    "    #initizlie all teh variables\n",
    "    sess.run(init)\n",
    "    \n",
    "    #fit all training data, so run through all training epochs \n",
    "    for epoch in range(training_Epochs):\n",
    "        \n",
    "        # we need to run optimizer in session through train X and train Y\n",
    "        for (x,y) in zip(train_X, train_Y):\n",
    "            sess.run(optimizer, feed_dict={X:x, Y:y})\n",
    "        \n",
    "        # now let's print cost, with W and b for each display step under already running epoch step\n",
    "        # we will go through epoch 1 to last epoch and calcualte cost and print only when modulo is 0\n",
    "        # modulo will be 0 for each 0 ending display step, 50, 100, 150,....1000\n",
    "        if (epoch+1) % display_Step == 0:\n",
    "            c = sess.run(cost, feed_dict={X:train_X, Y:train_Y})\n",
    "            print ('Epoch=', epoch+1, 'Cost=', c, 'W=', sess.run(W), 'b=', sess.run(b))\n",
    "            \n",
    "    # print optimization finished when epochs ends\n",
    "    print ('\\n Optimization Finished!')\n",
    "    \n",
    "    # Calculate and print final training cost\n",
    "    training_Cost = sess.run(cost, feed_dict={X: train_X, Y:train_Y})\n",
    "    print ('\\n Training Cost=', training_Cost, 'W=', sess.run(W), 'b=', sess.run(b))\n",
    "    \n",
    "    #Now, let's plot graph to show, where was our training data plotted\n",
    "    # and where is our line of linear regression among them\n",
    "    plt.plot(train_X, train_Y, 'ro', label='Training Data')\n",
    "    plt.plot(train_X, sess.run(W) * train_X + sess.run(b), label='Fitted Line')\n",
    "    plt.legend()\n",
    "    plt.show()\n",
    "    "
   ]
  },
  {
   "cell_type": "code",
   "execution_count": null,
   "metadata": {
    "collapsed": true
   },
   "outputs": [],
   "source": []
  },
  {
   "cell_type": "code",
   "execution_count": null,
   "metadata": {
    "collapsed": true
   },
   "outputs": [],
   "source": []
  },
  {
   "cell_type": "code",
   "execution_count": null,
   "metadata": {
    "collapsed": true
   },
   "outputs": [],
   "source": []
  },
  {
   "cell_type": "code",
   "execution_count": null,
   "metadata": {
    "collapsed": true
   },
   "outputs": [],
   "source": []
  },
  {
   "cell_type": "code",
   "execution_count": null,
   "metadata": {
    "collapsed": true
   },
   "outputs": [],
   "source": []
  },
  {
   "cell_type": "code",
   "execution_count": null,
   "metadata": {
    "collapsed": true
   },
   "outputs": [],
   "source": []
  },
  {
   "cell_type": "code",
   "execution_count": null,
   "metadata": {
    "collapsed": true
   },
   "outputs": [],
   "source": []
  },
  {
   "cell_type": "code",
   "execution_count": null,
   "metadata": {
    "collapsed": true
   },
   "outputs": [],
   "source": []
  }
 ],
 "metadata": {
  "kernelspec": {
   "display_name": "Python 3",
   "language": "python",
   "name": "python3"
  },
  "language_info": {
   "codemirror_mode": {
    "name": "ipython",
    "version": 3
   },
   "file_extension": ".py",
   "mimetype": "text/x-python",
   "name": "python",
   "nbconvert_exporter": "python",
   "pygments_lexer": "ipython3",
   "version": "3.5.3"
  }
 },
 "nbformat": 4,
 "nbformat_minor": 2
}
